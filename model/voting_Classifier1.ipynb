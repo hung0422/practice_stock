{
 "cells": [
  {
   "cell_type": "code",
   "execution_count": 1,
   "metadata": {},
   "outputs": [],
   "source": [
    "import pandas as pd\n",
    "from sklearn.model_selection import train_test_split\n",
    "# from sklearn.metrics import accuracy_score\n",
    "from sklearn.metrics import confusion_matrix\n",
    "from sklearn.metrics import classification_report"
   ]
  },
  {
   "cell_type": "code",
   "execution_count": 2,
   "metadata": {},
   "outputs": [
    {
     "data": {
      "text/html": [
       "<div>\n",
       "<style scoped>\n",
       "    .dataframe tbody tr th:only-of-type {\n",
       "        vertical-align: middle;\n",
       "    }\n",
       "\n",
       "    .dataframe tbody tr th {\n",
       "        vertical-align: top;\n",
       "    }\n",
       "\n",
       "    .dataframe thead th {\n",
       "        text-align: right;\n",
       "    }\n",
       "</style>\n",
       "<table border=\"1\" class=\"dataframe\">\n",
       "  <thead>\n",
       "    <tr style=\"text-align: right;\">\n",
       "      <th></th>\n",
       "      <th>Date</th>\n",
       "      <th>Dow</th>\n",
       "      <th>France</th>\n",
       "      <th>Germany</th>\n",
       "      <th>S&amp;P 500</th>\n",
       "      <th>Hong Kong</th>\n",
       "      <th>NASDAQ</th>\n",
       "      <th>Korea</th>\n",
       "      <th>Japan</th>\n",
       "      <th>Shanghai</th>\n",
       "      <th>Philadelphia</th>\n",
       "      <th>Taiwan</th>\n",
       "      <th>Future</th>\n",
       "      <th>OpenChange</th>\n",
       "      <th>selfDef</th>\n",
       "      <th>kMeans</th>\n",
       "    </tr>\n",
       "  </thead>\n",
       "  <tbody>\n",
       "    <tr>\n",
       "      <th>0</th>\n",
       "      <td>2014/7/2</td>\n",
       "      <td>0.12</td>\n",
       "      <td>0.32</td>\n",
       "      <td>0.09</td>\n",
       "      <td>0.07</td>\n",
       "      <td>1.55</td>\n",
       "      <td>-0.02</td>\n",
       "      <td>0.81</td>\n",
       "      <td>0.29</td>\n",
       "      <td>0.44</td>\n",
       "      <td>0.17</td>\n",
       "      <td>0.46</td>\n",
       "      <td>0.23</td>\n",
       "      <td>-16.18</td>\n",
       "      <td>0</td>\n",
       "      <td>0</td>\n",
       "    </tr>\n",
       "    <tr>\n",
       "      <th>1</th>\n",
       "      <td>2014/7/3</td>\n",
       "      <td>0.54</td>\n",
       "      <td>1.21</td>\n",
       "      <td>1.19</td>\n",
       "      <td>0.55</td>\n",
       "      <td>-0.08</td>\n",
       "      <td>0.63</td>\n",
       "      <td>-0.21</td>\n",
       "      <td>-0.14</td>\n",
       "      <td>0.19</td>\n",
       "      <td>0.74</td>\n",
       "      <td>0.44</td>\n",
       "      <td>0.59</td>\n",
       "      <td>-0.30</td>\n",
       "      <td>0</td>\n",
       "      <td>0</td>\n",
       "    </tr>\n",
       "    <tr>\n",
       "      <th>2</th>\n",
       "      <td>2014/7/7</td>\n",
       "      <td>-0.26</td>\n",
       "      <td>-1.41</td>\n",
       "      <td>-1.03</td>\n",
       "      <td>-0.39</td>\n",
       "      <td>-0.02</td>\n",
       "      <td>-0.77</td>\n",
       "      <td>-0.23</td>\n",
       "      <td>-0.37</td>\n",
       "      <td>0.03</td>\n",
       "      <td>-0.68</td>\n",
       "      <td>0.11</td>\n",
       "      <td>-0.02</td>\n",
       "      <td>-5.02</td>\n",
       "      <td>0</td>\n",
       "      <td>0</td>\n",
       "    </tr>\n",
       "    <tr>\n",
       "      <th>3</th>\n",
       "      <td>2014/7/8</td>\n",
       "      <td>-0.69</td>\n",
       "      <td>-1.40</td>\n",
       "      <td>-1.35</td>\n",
       "      <td>-0.70</td>\n",
       "      <td>0.00</td>\n",
       "      <td>-1.35</td>\n",
       "      <td>0.08</td>\n",
       "      <td>-0.42</td>\n",
       "      <td>0.20</td>\n",
       "      <td>-0.54</td>\n",
       "      <td>0.11</td>\n",
       "      <td>0.28</td>\n",
       "      <td>-20.98</td>\n",
       "      <td>1</td>\n",
       "      <td>1</td>\n",
       "    </tr>\n",
       "    <tr>\n",
       "      <th>4</th>\n",
       "      <td>2014/7/9</td>\n",
       "      <td>0.47</td>\n",
       "      <td>0.40</td>\n",
       "      <td>0.36</td>\n",
       "      <td>0.46</td>\n",
       "      <td>-1.55</td>\n",
       "      <td>0.63</td>\n",
       "      <td>-0.31</td>\n",
       "      <td>-0.08</td>\n",
       "      <td>-1.23</td>\n",
       "      <td>0.61</td>\n",
       "      <td>-0.43</td>\n",
       "      <td>-0.13</td>\n",
       "      <td>22.91</td>\n",
       "      <td>3</td>\n",
       "      <td>3</td>\n",
       "    </tr>\n",
       "    <tr>\n",
       "      <th>...</th>\n",
       "      <td>...</td>\n",
       "      <td>...</td>\n",
       "      <td>...</td>\n",
       "      <td>...</td>\n",
       "      <td>...</td>\n",
       "      <td>...</td>\n",
       "      <td>...</td>\n",
       "      <td>...</td>\n",
       "      <td>...</td>\n",
       "      <td>...</td>\n",
       "      <td>...</td>\n",
       "      <td>...</td>\n",
       "      <td>...</td>\n",
       "      <td>...</td>\n",
       "      <td>...</td>\n",
       "      <td>...</td>\n",
       "    </tr>\n",
       "    <tr>\n",
       "      <th>1302</th>\n",
       "      <td>2021/1/5</td>\n",
       "      <td>0.55</td>\n",
       "      <td>-0.44</td>\n",
       "      <td>-0.55</td>\n",
       "      <td>0.71</td>\n",
       "      <td>0.56</td>\n",
       "      <td>0.95</td>\n",
       "      <td>1.57</td>\n",
       "      <td>-0.37</td>\n",
       "      <td>0.73</td>\n",
       "      <td>1.94</td>\n",
       "      <td>0.66</td>\n",
       "      <td>0.40</td>\n",
       "      <td>131.89</td>\n",
       "      <td>4</td>\n",
       "      <td>4</td>\n",
       "    </tr>\n",
       "    <tr>\n",
       "      <th>1303</th>\n",
       "      <td>2021/1/6</td>\n",
       "      <td>1.44</td>\n",
       "      <td>1.19</td>\n",
       "      <td>1.76</td>\n",
       "      <td>0.57</td>\n",
       "      <td>0.29</td>\n",
       "      <td>-0.61</td>\n",
       "      <td>-0.75</td>\n",
       "      <td>-0.38</td>\n",
       "      <td>0.63</td>\n",
       "      <td>-0.32</td>\n",
       "      <td>-0.11</td>\n",
       "      <td>0.80</td>\n",
       "      <td>76.39</td>\n",
       "      <td>3</td>\n",
       "      <td>4</td>\n",
       "    </tr>\n",
       "    <tr>\n",
       "      <th>1304</th>\n",
       "      <td>2021/1/7</td>\n",
       "      <td>0.69</td>\n",
       "      <td>0.70</td>\n",
       "      <td>0.55</td>\n",
       "      <td>1.48</td>\n",
       "      <td>-0.24</td>\n",
       "      <td>2.56</td>\n",
       "      <td>2.14</td>\n",
       "      <td>1.60</td>\n",
       "      <td>0.71</td>\n",
       "      <td>3.86</td>\n",
       "      <td>1.54</td>\n",
       "      <td>1.10</td>\n",
       "      <td>151.13</td>\n",
       "      <td>4</td>\n",
       "      <td>4</td>\n",
       "    </tr>\n",
       "    <tr>\n",
       "      <th>1305</th>\n",
       "      <td>2021/1/8</td>\n",
       "      <td>0.18</td>\n",
       "      <td>0.65</td>\n",
       "      <td>0.58</td>\n",
       "      <td>0.55</td>\n",
       "      <td>1.07</td>\n",
       "      <td>1.03</td>\n",
       "      <td>3.97</td>\n",
       "      <td>2.36</td>\n",
       "      <td>-0.17</td>\n",
       "      <td>-0.02</td>\n",
       "      <td>1.64</td>\n",
       "      <td>-0.21</td>\n",
       "      <td>-38.37</td>\n",
       "      <td>1</td>\n",
       "      <td>1</td>\n",
       "    </tr>\n",
       "    <tr>\n",
       "      <th>1306</th>\n",
       "      <td>2021/1/12</td>\n",
       "      <td>0.19</td>\n",
       "      <td>-0.20</td>\n",
       "      <td>-0.08</td>\n",
       "      <td>0.04</td>\n",
       "      <td>1.14</td>\n",
       "      <td>0.28</td>\n",
       "      <td>-0.71</td>\n",
       "      <td>0.09</td>\n",
       "      <td>2.18</td>\n",
       "      <td>0.61</td>\n",
       "      <td>-0.36</td>\n",
       "      <td>0.31</td>\n",
       "      <td>49.46</td>\n",
       "      <td>3</td>\n",
       "      <td>3</td>\n",
       "    </tr>\n",
       "  </tbody>\n",
       "</table>\n",
       "<p>1307 rows × 16 columns</p>\n",
       "</div>"
      ],
      "text/plain": [
       "           Date   Dow  France  Germany  S&P 500  Hong Kong  NASDAQ  Korea  \\\n",
       "0      2014/7/2  0.12    0.32     0.09     0.07       1.55   -0.02   0.81   \n",
       "1      2014/7/3  0.54    1.21     1.19     0.55      -0.08    0.63  -0.21   \n",
       "2      2014/7/7 -0.26   -1.41    -1.03    -0.39      -0.02   -0.77  -0.23   \n",
       "3      2014/7/8 -0.69   -1.40    -1.35    -0.70       0.00   -1.35   0.08   \n",
       "4      2014/7/9  0.47    0.40     0.36     0.46      -1.55    0.63  -0.31   \n",
       "...         ...   ...     ...      ...      ...        ...     ...    ...   \n",
       "1302   2021/1/5  0.55   -0.44    -0.55     0.71       0.56    0.95   1.57   \n",
       "1303   2021/1/6  1.44    1.19     1.76     0.57       0.29   -0.61  -0.75   \n",
       "1304   2021/1/7  0.69    0.70     0.55     1.48      -0.24    2.56   2.14   \n",
       "1305   2021/1/8  0.18    0.65     0.58     0.55       1.07    1.03   3.97   \n",
       "1306  2021/1/12  0.19   -0.20    -0.08     0.04       1.14    0.28  -0.71   \n",
       "\n",
       "      Japan  Shanghai  Philadelphia  Taiwan  Future  OpenChange  selfDef  \\\n",
       "0      0.29      0.44          0.17    0.46    0.23      -16.18        0   \n",
       "1     -0.14      0.19          0.74    0.44    0.59       -0.30        0   \n",
       "2     -0.37      0.03         -0.68    0.11   -0.02       -5.02        0   \n",
       "3     -0.42      0.20         -0.54    0.11    0.28      -20.98        1   \n",
       "4     -0.08     -1.23          0.61   -0.43   -0.13       22.91        3   \n",
       "...     ...       ...           ...     ...     ...         ...      ...   \n",
       "1302  -0.37      0.73          1.94    0.66    0.40      131.89        4   \n",
       "1303  -0.38      0.63         -0.32   -0.11    0.80       76.39        3   \n",
       "1304   1.60      0.71          3.86    1.54    1.10      151.13        4   \n",
       "1305   2.36     -0.17         -0.02    1.64   -0.21      -38.37        1   \n",
       "1306   0.09      2.18          0.61   -0.36    0.31       49.46        3   \n",
       "\n",
       "      kMeans  \n",
       "0          0  \n",
       "1          0  \n",
       "2          0  \n",
       "3          1  \n",
       "4          3  \n",
       "...      ...  \n",
       "1302       4  \n",
       "1303       4  \n",
       "1304       4  \n",
       "1305       1  \n",
       "1306       3  \n",
       "\n",
       "[1307 rows x 16 columns]"
      ]
     },
     "execution_count": 2,
     "metadata": {},
     "output_type": "execute_result"
    }
   ],
   "source": [
    "data = pd.read_csv(r'CleanTest5.csv')\n",
    "data"
   ]
  },
  {
   "cell_type": "code",
   "execution_count": 3,
   "metadata": {},
   "outputs": [
    {
     "data": {
      "text/html": [
       "<div>\n",
       "<style scoped>\n",
       "    .dataframe tbody tr th:only-of-type {\n",
       "        vertical-align: middle;\n",
       "    }\n",
       "\n",
       "    .dataframe tbody tr th {\n",
       "        vertical-align: top;\n",
       "    }\n",
       "\n",
       "    .dataframe thead th {\n",
       "        text-align: right;\n",
       "    }\n",
       "</style>\n",
       "<table border=\"1\" class=\"dataframe\">\n",
       "  <thead>\n",
       "    <tr style=\"text-align: right;\">\n",
       "      <th></th>\n",
       "      <th>Date</th>\n",
       "      <th>Dow</th>\n",
       "      <th>France</th>\n",
       "      <th>Germany</th>\n",
       "      <th>S&amp;P 500</th>\n",
       "      <th>Hong Kong</th>\n",
       "      <th>NASDAQ</th>\n",
       "      <th>Korea</th>\n",
       "      <th>Japan</th>\n",
       "      <th>Shanghai</th>\n",
       "      <th>Philadelphia</th>\n",
       "      <th>Taiwan</th>\n",
       "      <th>Future</th>\n",
       "      <th>OpenChange</th>\n",
       "      <th>selfDef</th>\n",
       "      <th>kMeans</th>\n",
       "      <th>selfDef2</th>\n",
       "    </tr>\n",
       "  </thead>\n",
       "  <tbody>\n",
       "    <tr>\n",
       "      <th>0</th>\n",
       "      <td>2014/7/2</td>\n",
       "      <td>0.12</td>\n",
       "      <td>0.32</td>\n",
       "      <td>0.09</td>\n",
       "      <td>0.07</td>\n",
       "      <td>1.55</td>\n",
       "      <td>-0.02</td>\n",
       "      <td>0.81</td>\n",
       "      <td>0.29</td>\n",
       "      <td>0.44</td>\n",
       "      <td>0.17</td>\n",
       "      <td>0.46</td>\n",
       "      <td>0.23</td>\n",
       "      <td>-16.18</td>\n",
       "      <td>0</td>\n",
       "      <td>0</td>\n",
       "      <td>1</td>\n",
       "    </tr>\n",
       "    <tr>\n",
       "      <th>1</th>\n",
       "      <td>2014/7/3</td>\n",
       "      <td>0.54</td>\n",
       "      <td>1.21</td>\n",
       "      <td>1.19</td>\n",
       "      <td>0.55</td>\n",
       "      <td>-0.08</td>\n",
       "      <td>0.63</td>\n",
       "      <td>-0.21</td>\n",
       "      <td>-0.14</td>\n",
       "      <td>0.19</td>\n",
       "      <td>0.74</td>\n",
       "      <td>0.44</td>\n",
       "      <td>0.59</td>\n",
       "      <td>-0.30</td>\n",
       "      <td>0</td>\n",
       "      <td>0</td>\n",
       "      <td>1</td>\n",
       "    </tr>\n",
       "    <tr>\n",
       "      <th>2</th>\n",
       "      <td>2014/7/7</td>\n",
       "      <td>-0.26</td>\n",
       "      <td>-1.41</td>\n",
       "      <td>-1.03</td>\n",
       "      <td>-0.39</td>\n",
       "      <td>-0.02</td>\n",
       "      <td>-0.77</td>\n",
       "      <td>-0.23</td>\n",
       "      <td>-0.37</td>\n",
       "      <td>0.03</td>\n",
       "      <td>-0.68</td>\n",
       "      <td>0.11</td>\n",
       "      <td>-0.02</td>\n",
       "      <td>-5.02</td>\n",
       "      <td>0</td>\n",
       "      <td>0</td>\n",
       "      <td>1</td>\n",
       "    </tr>\n",
       "    <tr>\n",
       "      <th>3</th>\n",
       "      <td>2014/7/8</td>\n",
       "      <td>-0.69</td>\n",
       "      <td>-1.40</td>\n",
       "      <td>-1.35</td>\n",
       "      <td>-0.70</td>\n",
       "      <td>0.00</td>\n",
       "      <td>-1.35</td>\n",
       "      <td>0.08</td>\n",
       "      <td>-0.42</td>\n",
       "      <td>0.20</td>\n",
       "      <td>-0.54</td>\n",
       "      <td>0.11</td>\n",
       "      <td>0.28</td>\n",
       "      <td>-20.98</td>\n",
       "      <td>1</td>\n",
       "      <td>1</td>\n",
       "      <td>1</td>\n",
       "    </tr>\n",
       "    <tr>\n",
       "      <th>4</th>\n",
       "      <td>2014/7/9</td>\n",
       "      <td>0.47</td>\n",
       "      <td>0.40</td>\n",
       "      <td>0.36</td>\n",
       "      <td>0.46</td>\n",
       "      <td>-1.55</td>\n",
       "      <td>0.63</td>\n",
       "      <td>-0.31</td>\n",
       "      <td>-0.08</td>\n",
       "      <td>-1.23</td>\n",
       "      <td>0.61</td>\n",
       "      <td>-0.43</td>\n",
       "      <td>-0.13</td>\n",
       "      <td>22.91</td>\n",
       "      <td>3</td>\n",
       "      <td>3</td>\n",
       "      <td>0</td>\n",
       "    </tr>\n",
       "    <tr>\n",
       "      <th>...</th>\n",
       "      <td>...</td>\n",
       "      <td>...</td>\n",
       "      <td>...</td>\n",
       "      <td>...</td>\n",
       "      <td>...</td>\n",
       "      <td>...</td>\n",
       "      <td>...</td>\n",
       "      <td>...</td>\n",
       "      <td>...</td>\n",
       "      <td>...</td>\n",
       "      <td>...</td>\n",
       "      <td>...</td>\n",
       "      <td>...</td>\n",
       "      <td>...</td>\n",
       "      <td>...</td>\n",
       "      <td>...</td>\n",
       "      <td>...</td>\n",
       "    </tr>\n",
       "    <tr>\n",
       "      <th>1302</th>\n",
       "      <td>2021/1/5</td>\n",
       "      <td>0.55</td>\n",
       "      <td>-0.44</td>\n",
       "      <td>-0.55</td>\n",
       "      <td>0.71</td>\n",
       "      <td>0.56</td>\n",
       "      <td>0.95</td>\n",
       "      <td>1.57</td>\n",
       "      <td>-0.37</td>\n",
       "      <td>0.73</td>\n",
       "      <td>1.94</td>\n",
       "      <td>0.66</td>\n",
       "      <td>0.40</td>\n",
       "      <td>131.89</td>\n",
       "      <td>4</td>\n",
       "      <td>4</td>\n",
       "      <td>0</td>\n",
       "    </tr>\n",
       "    <tr>\n",
       "      <th>1303</th>\n",
       "      <td>2021/1/6</td>\n",
       "      <td>1.44</td>\n",
       "      <td>1.19</td>\n",
       "      <td>1.76</td>\n",
       "      <td>0.57</td>\n",
       "      <td>0.29</td>\n",
       "      <td>-0.61</td>\n",
       "      <td>-0.75</td>\n",
       "      <td>-0.38</td>\n",
       "      <td>0.63</td>\n",
       "      <td>-0.32</td>\n",
       "      <td>-0.11</td>\n",
       "      <td>0.80</td>\n",
       "      <td>76.39</td>\n",
       "      <td>3</td>\n",
       "      <td>4</td>\n",
       "      <td>0</td>\n",
       "    </tr>\n",
       "    <tr>\n",
       "      <th>1304</th>\n",
       "      <td>2021/1/7</td>\n",
       "      <td>0.69</td>\n",
       "      <td>0.70</td>\n",
       "      <td>0.55</td>\n",
       "      <td>1.48</td>\n",
       "      <td>-0.24</td>\n",
       "      <td>2.56</td>\n",
       "      <td>2.14</td>\n",
       "      <td>1.60</td>\n",
       "      <td>0.71</td>\n",
       "      <td>3.86</td>\n",
       "      <td>1.54</td>\n",
       "      <td>1.10</td>\n",
       "      <td>151.13</td>\n",
       "      <td>4</td>\n",
       "      <td>4</td>\n",
       "      <td>0</td>\n",
       "    </tr>\n",
       "    <tr>\n",
       "      <th>1305</th>\n",
       "      <td>2021/1/8</td>\n",
       "      <td>0.18</td>\n",
       "      <td>0.65</td>\n",
       "      <td>0.58</td>\n",
       "      <td>0.55</td>\n",
       "      <td>1.07</td>\n",
       "      <td>1.03</td>\n",
       "      <td>3.97</td>\n",
       "      <td>2.36</td>\n",
       "      <td>-0.17</td>\n",
       "      <td>-0.02</td>\n",
       "      <td>1.64</td>\n",
       "      <td>-0.21</td>\n",
       "      <td>-38.37</td>\n",
       "      <td>1</td>\n",
       "      <td>1</td>\n",
       "      <td>1</td>\n",
       "    </tr>\n",
       "    <tr>\n",
       "      <th>1306</th>\n",
       "      <td>2021/1/12</td>\n",
       "      <td>0.19</td>\n",
       "      <td>-0.20</td>\n",
       "      <td>-0.08</td>\n",
       "      <td>0.04</td>\n",
       "      <td>1.14</td>\n",
       "      <td>0.28</td>\n",
       "      <td>-0.71</td>\n",
       "      <td>0.09</td>\n",
       "      <td>2.18</td>\n",
       "      <td>0.61</td>\n",
       "      <td>-0.36</td>\n",
       "      <td>0.31</td>\n",
       "      <td>49.46</td>\n",
       "      <td>3</td>\n",
       "      <td>3</td>\n",
       "      <td>0</td>\n",
       "    </tr>\n",
       "  </tbody>\n",
       "</table>\n",
       "<p>1307 rows × 17 columns</p>\n",
       "</div>"
      ],
      "text/plain": [
       "           Date   Dow  France  Germany  S&P 500  Hong Kong  NASDAQ  Korea  \\\n",
       "0      2014/7/2  0.12    0.32     0.09     0.07       1.55   -0.02   0.81   \n",
       "1      2014/7/3  0.54    1.21     1.19     0.55      -0.08    0.63  -0.21   \n",
       "2      2014/7/7 -0.26   -1.41    -1.03    -0.39      -0.02   -0.77  -0.23   \n",
       "3      2014/7/8 -0.69   -1.40    -1.35    -0.70       0.00   -1.35   0.08   \n",
       "4      2014/7/9  0.47    0.40     0.36     0.46      -1.55    0.63  -0.31   \n",
       "...         ...   ...     ...      ...      ...        ...     ...    ...   \n",
       "1302   2021/1/5  0.55   -0.44    -0.55     0.71       0.56    0.95   1.57   \n",
       "1303   2021/1/6  1.44    1.19     1.76     0.57       0.29   -0.61  -0.75   \n",
       "1304   2021/1/7  0.69    0.70     0.55     1.48      -0.24    2.56   2.14   \n",
       "1305   2021/1/8  0.18    0.65     0.58     0.55       1.07    1.03   3.97   \n",
       "1306  2021/1/12  0.19   -0.20    -0.08     0.04       1.14    0.28  -0.71   \n",
       "\n",
       "      Japan  Shanghai  Philadelphia  Taiwan  Future  OpenChange  selfDef  \\\n",
       "0      0.29      0.44          0.17    0.46    0.23      -16.18        0   \n",
       "1     -0.14      0.19          0.74    0.44    0.59       -0.30        0   \n",
       "2     -0.37      0.03         -0.68    0.11   -0.02       -5.02        0   \n",
       "3     -0.42      0.20         -0.54    0.11    0.28      -20.98        1   \n",
       "4     -0.08     -1.23          0.61   -0.43   -0.13       22.91        3   \n",
       "...     ...       ...           ...     ...     ...         ...      ...   \n",
       "1302  -0.37      0.73          1.94    0.66    0.40      131.89        4   \n",
       "1303  -0.38      0.63         -0.32   -0.11    0.80       76.39        3   \n",
       "1304   1.60      0.71          3.86    1.54    1.10      151.13        4   \n",
       "1305   2.36     -0.17         -0.02    1.64   -0.21      -38.37        1   \n",
       "1306   0.09      2.18          0.61   -0.36    0.31       49.46        3   \n",
       "\n",
       "      kMeans  selfDef2  \n",
       "0          0         1  \n",
       "1          0         1  \n",
       "2          0         1  \n",
       "3          1         1  \n",
       "4          3         0  \n",
       "...      ...       ...  \n",
       "1302       4         0  \n",
       "1303       4         0  \n",
       "1304       4         0  \n",
       "1305       1         1  \n",
       "1306       3         0  \n",
       "\n",
       "[1307 rows x 17 columns]"
      ]
     },
     "execution_count": 3,
     "metadata": {},
     "output_type": "execute_result"
    }
   ],
   "source": [
    "data['selfDef2'] = data['OpenChange'].apply(lambda x : 1 if x < 0 else 0)\n",
    "data"
   ]
  },
  {
   "cell_type": "code",
   "execution_count": 4,
   "metadata": {},
   "outputs": [],
   "source": [
    "x = data.iloc[:,1:-4]"
   ]
  },
  {
   "cell_type": "code",
   "execution_count": 5,
   "metadata": {},
   "outputs": [],
   "source": [
    "y = data.loc[:,'selfDef2']"
   ]
  },
  {
   "cell_type": "code",
   "execution_count": 6,
   "metadata": {},
   "outputs": [],
   "source": [
    "x_train,x_test, y_train, y_test =train_test_split(x, y ,test_size=0.3, random_state=0)"
   ]
  },
  {
   "cell_type": "code",
   "execution_count": null,
   "metadata": {},
   "outputs": [],
   "source": [
    "# LogisticRegression"
   ]
  },
  {
   "cell_type": "code",
   "execution_count": 75,
   "metadata": {},
   "outputs": [],
   "source": [
    "from sklearn.linear_model import LogisticRegression\n",
    "model = LogisticRegression(random_state=0)\n",
    "model.fit(x_train,y_train)\n",
    "y_pred =model.predict(x_test)"
   ]
  },
  {
   "cell_type": "code",
   "execution_count": 76,
   "metadata": {},
   "outputs": [
    {
     "name": "stdout",
     "output_type": "stream",
     "text": [
      "訓練集: 0.7571115973741794 測試集: 0.7480916030534351\n"
     ]
    }
   ],
   "source": [
    "print('訓練集:',model.score(x_train,y_train),'測試集:',model.score(x_test,y_test))"
   ]
  },
  {
   "cell_type": "code",
   "execution_count": 49,
   "metadata": {},
   "outputs": [
    {
     "name": "stdout",
     "output_type": "stream",
     "text": [
      "測試AUC: 0.7346311628253899 測試AUC: 0.7269795194323496\n"
     ]
    }
   ],
   "source": [
    "from sklearn import metrics\n",
    "x_pred = model.predict(x_train)\n",
    "print('測試AUC:',metrics.roc_auc_score(y_train,x_pred),'測試AUC:', metrics.roc_auc_score(y_test,y_pred))"
   ]
  },
  {
   "cell_type": "code",
   "execution_count": 12,
   "metadata": {},
   "outputs": [
    {
     "data": {
      "text/plain": [
       "array([[196,  38],\n",
       "       [ 61,  98]], dtype=int64)"
      ]
     },
     "execution_count": 12,
     "metadata": {},
     "output_type": "execute_result"
    }
   ],
   "source": [
    "cm = confusion_matrix(y_test,y_pred)\n",
    "cm"
   ]
  },
  {
   "cell_type": "code",
   "execution_count": 13,
   "metadata": {},
   "outputs": [
    {
     "name": "stdout",
     "output_type": "stream",
     "text": [
      "              precision    recall  f1-score   support\n",
      "\n",
      "           0       0.76      0.84      0.80       234\n",
      "           1       0.72      0.62      0.66       159\n",
      "\n",
      "    accuracy                           0.75       393\n",
      "   macro avg       0.74      0.73      0.73       393\n",
      "weighted avg       0.75      0.75      0.74       393\n",
      "\n"
     ]
    }
   ],
   "source": [
    "print(classification_report(y_test, y_pred))"
   ]
  },
  {
   "cell_type": "code",
   "execution_count": null,
   "metadata": {},
   "outputs": [],
   "source": [
    "# DecisionTreeClassifier"
   ]
  },
  {
   "cell_type": "code",
   "execution_count": 50,
   "metadata": {},
   "outputs": [],
   "source": [
    "from sklearn.tree import DecisionTreeClassifier\n",
    "model = DecisionTreeClassifier(random_state=0)\n",
    "model.fit(x_train,y_train)\n",
    "y_pred =model.predict(x_test)"
   ]
  },
  {
   "cell_type": "code",
   "execution_count": 51,
   "metadata": {},
   "outputs": [
    {
     "name": "stdout",
     "output_type": "stream",
     "text": [
      "訓練集: 1.0 測試集: 0.6666666666666666\n"
     ]
    }
   ],
   "source": [
    "print('訓練集:',model.score(x_train,y_train),'測試集:',model.score(x_test,y_test))"
   ]
  },
  {
   "cell_type": "code",
   "execution_count": 52,
   "metadata": {},
   "outputs": [
    {
     "name": "stdout",
     "output_type": "stream",
     "text": [
      "測試AUC: 1.0 測試AUC: 0.6555797452023868\n"
     ]
    }
   ],
   "source": [
    "from sklearn import metrics\n",
    "x_pred = model.predict(x_train)\n",
    "print('測試AUC:',metrics.roc_auc_score(y_train,x_pred),'測試AUC:', metrics.roc_auc_score(y_test,y_pred))"
   ]
  },
  {
   "cell_type": "code",
   "execution_count": null,
   "metadata": {},
   "outputs": [],
   "source": [
    "# SVC"
   ]
  },
  {
   "cell_type": "code",
   "execution_count": 66,
   "metadata": {},
   "outputs": [],
   "source": [
    "from sklearn.svm import SVC\n",
    "model = SVC(random_state=0)\n",
    "model.fit(x_train,y_train)\n",
    "y_pred =model.predict(x_test)"
   ]
  },
  {
   "cell_type": "code",
   "execution_count": 67,
   "metadata": {},
   "outputs": [
    {
     "name": "stdout",
     "output_type": "stream",
     "text": [
      "訓練集: 0.7811816192560175 測試集: 0.7430025445292621\n"
     ]
    }
   ],
   "source": [
    "print('訓練集:',model.score(x_train,y_train),'測試集:',model.score(x_test,y_test))"
   ]
  },
  {
   "cell_type": "code",
   "execution_count": 55,
   "metadata": {},
   "outputs": [
    {
     "name": "stdout",
     "output_type": "stream",
     "text": [
      "測試AUC: 0.7583153079237214 測試AUC: 0.7166586034510563\n"
     ]
    }
   ],
   "source": [
    "from sklearn import metrics\n",
    "x_pred = model.predict(x_train)\n",
    "print('測試AUC:',metrics.roc_auc_score(y_train,x_pred),'測試AUC:', metrics.roc_auc_score(y_test,y_pred))"
   ]
  },
  {
   "cell_type": "code",
   "execution_count": null,
   "metadata": {},
   "outputs": [],
   "source": [
    "# Max Voting 的 集成學習"
   ]
  },
  {
   "cell_type": "code",
   "execution_count": 56,
   "metadata": {},
   "outputs": [],
   "source": [
    "from sklearn.ensemble import VotingClassifier\n",
    "model = VotingClassifier(estimators=[('lg',LogisticRegression(random_state=0)),\n",
    "                                     ('tr',DecisionTreeClassifier(criterion='entropy',splitter='best',max_depth=1,\n",
    "                                                      min_samples_leaf=1,min_samples_split=2,random_state=0)),\n",
    "                                     ('svc',SVC(random_state=0))\n",
    "                                    ],voting='hard')\n",
    "model.fit(x_train,y_train)\n",
    "y_pred =model.predict(x_test)"
   ]
  },
  {
   "cell_type": "code",
   "execution_count": 57,
   "metadata": {},
   "outputs": [
    {
     "name": "stdout",
     "output_type": "stream",
     "text": [
      "訓練集: 0.7691466083150985 測試集: 0.7480916030534351\n"
     ]
    }
   ],
   "source": [
    "print('訓練集:',model.score(x_train,y_train),'測試集:',model.score(x_test,y_test))"
   ]
  },
  {
   "cell_type": "code",
   "execution_count": 58,
   "metadata": {},
   "outputs": [
    {
     "name": "stdout",
     "output_type": "stream",
     "text": [
      "測試AUC: 0.7455980706596057 測試AUC: 0.7219400096758588\n"
     ]
    }
   ],
   "source": [
    "x_pred = model.predict(x_train)\n",
    "print('測試AUC:',metrics.roc_auc_score(y_train,x_pred),'測試AUC:', metrics.roc_auc_score(y_test,y_pred))"
   ]
  },
  {
   "cell_type": "code",
   "execution_count": null,
   "metadata": {},
   "outputs": [],
   "source": []
  },
  {
   "cell_type": "code",
   "execution_count": 59,
   "metadata": {},
   "outputs": [
    {
     "data": {
      "text/plain": [
       "array([[201,  33],\n",
       "       [ 66,  93]], dtype=int64)"
      ]
     },
     "execution_count": 59,
     "metadata": {},
     "output_type": "execute_result"
    }
   ],
   "source": [
    "cm = confusion_matrix(y_test,y_pred)\n",
    "cm"
   ]
  },
  {
   "cell_type": "code",
   "execution_count": 60,
   "metadata": {},
   "outputs": [
    {
     "name": "stdout",
     "output_type": "stream",
     "text": [
      "              precision    recall  f1-score   support\n",
      "\n",
      "           0       0.75      0.86      0.80       234\n",
      "           1       0.74      0.58      0.65       159\n",
      "\n",
      "    accuracy                           0.75       393\n",
      "   macro avg       0.75      0.72      0.73       393\n",
      "weighted avg       0.75      0.75      0.74       393\n",
      "\n"
     ]
    }
   ],
   "source": [
    "print(classification_report(y_test, y_pred))"
   ]
  },
  {
   "cell_type": "code",
   "execution_count": 31,
   "metadata": {},
   "outputs": [
    {
     "data": {
      "text/html": [
       "<div>\n",
       "<style scoped>\n",
       "    .dataframe tbody tr th:only-of-type {\n",
       "        vertical-align: middle;\n",
       "    }\n",
       "\n",
       "    .dataframe tbody tr th {\n",
       "        vertical-align: top;\n",
       "    }\n",
       "\n",
       "    .dataframe thead th {\n",
       "        text-align: right;\n",
       "    }\n",
       "</style>\n",
       "<table border=\"1\" class=\"dataframe\">\n",
       "  <thead>\n",
       "    <tr style=\"text-align: right;\">\n",
       "      <th></th>\n",
       "      <th>Date</th>\n",
       "      <th>Dow</th>\n",
       "      <th>France</th>\n",
       "      <th>Germany</th>\n",
       "      <th>S&amp;P 500</th>\n",
       "      <th>Hong Kong</th>\n",
       "      <th>NASDAQ</th>\n",
       "      <th>Korea</th>\n",
       "      <th>Japan</th>\n",
       "      <th>Shanghai</th>\n",
       "      <th>Philadelphia</th>\n",
       "      <th>Taiwan</th>\n",
       "      <th>Future</th>\n",
       "      <th>OpenChange</th>\n",
       "      <th>selfDef</th>\n",
       "      <th>kMeans</th>\n",
       "      <th>selfDef2</th>\n",
       "    </tr>\n",
       "  </thead>\n",
       "  <tbody>\n",
       "    <tr>\n",
       "      <th>0</th>\n",
       "      <td>2013/1/8</td>\n",
       "      <td>-0.41</td>\n",
       "      <td>0.25</td>\n",
       "      <td>-0.48</td>\n",
       "      <td>-0.32</td>\n",
       "      <td>-0.94</td>\n",
       "      <td>-0.23</td>\n",
       "      <td>0.04</td>\n",
       "      <td>-0.86</td>\n",
       "      <td>-0.41</td>\n",
       "      <td>-1.12</td>\n",
       "      <td>-0.43</td>\n",
       "      <td>-0.47</td>\n",
       "      <td>4.74</td>\n",
       "      <td>0</td>\n",
       "      <td>0</td>\n",
       "      <td>0</td>\n",
       "    </tr>\n",
       "    <tr>\n",
       "      <th>1</th>\n",
       "      <td>2013/1/9</td>\n",
       "      <td>0.46</td>\n",
       "      <td>0.66</td>\n",
       "      <td>0.32</td>\n",
       "      <td>0.27</td>\n",
       "      <td>0.46</td>\n",
       "      <td>0.45</td>\n",
       "      <td>-0.31</td>\n",
       "      <td>0.67</td>\n",
       "      <td>-0.03</td>\n",
       "      <td>1.05</td>\n",
       "      <td>0.22</td>\n",
       "      <td>0.40</td>\n",
       "      <td>42.34</td>\n",
       "      <td>3</td>\n",
       "      <td>3</td>\n",
       "      <td>0</td>\n",
       "    </tr>\n",
       "    <tr>\n",
       "      <th>2</th>\n",
       "      <td>2013/1/10</td>\n",
       "      <td>0.60</td>\n",
       "      <td>-0.01</td>\n",
       "      <td>-0.16</td>\n",
       "      <td>0.76</td>\n",
       "      <td>0.59</td>\n",
       "      <td>0.51</td>\n",
       "      <td>0.75</td>\n",
       "      <td>0.70</td>\n",
       "      <td>0.37</td>\n",
       "      <td>1.33</td>\n",
       "      <td>0.94</td>\n",
       "      <td>1.27</td>\n",
       "      <td>31.93</td>\n",
       "      <td>3</td>\n",
       "      <td>3</td>\n",
       "      <td>0</td>\n",
       "    </tr>\n",
       "    <tr>\n",
       "      <th>3</th>\n",
       "      <td>2013/1/11</td>\n",
       "      <td>0.13</td>\n",
       "      <td>0.32</td>\n",
       "      <td>0.09</td>\n",
       "      <td>0.00</td>\n",
       "      <td>-0.39</td>\n",
       "      <td>0.12</td>\n",
       "      <td>-0.50</td>\n",
       "      <td>1.40</td>\n",
       "      <td>-1.78</td>\n",
       "      <td>0.53</td>\n",
       "      <td>0.10</td>\n",
       "      <td>-0.43</td>\n",
       "      <td>-23.47</td>\n",
       "      <td>1</td>\n",
       "      <td>1</td>\n",
       "      <td>1</td>\n",
       "    </tr>\n",
       "    <tr>\n",
       "      <th>4</th>\n",
       "      <td>2013/1/15</td>\n",
       "      <td>0.20</td>\n",
       "      <td>-0.18</td>\n",
       "      <td>-0.69</td>\n",
       "      <td>0.11</td>\n",
       "      <td>-0.14</td>\n",
       "      <td>-0.22</td>\n",
       "      <td>-1.16</td>\n",
       "      <td>0.72</td>\n",
       "      <td>0.60</td>\n",
       "      <td>-0.50</td>\n",
       "      <td>-0.75</td>\n",
       "      <td>-1.05</td>\n",
       "      <td>1.07</td>\n",
       "      <td>0</td>\n",
       "      <td>0</td>\n",
       "      <td>0</td>\n",
       "    </tr>\n",
       "    <tr>\n",
       "      <th>...</th>\n",
       "      <td>...</td>\n",
       "      <td>...</td>\n",
       "      <td>...</td>\n",
       "      <td>...</td>\n",
       "      <td>...</td>\n",
       "      <td>...</td>\n",
       "      <td>...</td>\n",
       "      <td>...</td>\n",
       "      <td>...</td>\n",
       "      <td>...</td>\n",
       "      <td>...</td>\n",
       "      <td>...</td>\n",
       "      <td>...</td>\n",
       "      <td>...</td>\n",
       "      <td>...</td>\n",
       "      <td>...</td>\n",
       "      <td>...</td>\n",
       "    </tr>\n",
       "    <tr>\n",
       "      <th>287</th>\n",
       "      <td>2014/6/24</td>\n",
       "      <td>-0.70</td>\n",
       "      <td>0.53</td>\n",
       "      <td>0.17</td>\n",
       "      <td>-0.64</td>\n",
       "      <td>0.33</td>\n",
       "      <td>-0.42</td>\n",
       "      <td>0.98</td>\n",
       "      <td>0.05</td>\n",
       "      <td>0.47</td>\n",
       "      <td>-0.73</td>\n",
       "      <td>0.19</td>\n",
       "      <td>0.05</td>\n",
       "      <td>3.93</td>\n",
       "      <td>0</td>\n",
       "      <td>0</td>\n",
       "      <td>0</td>\n",
       "    </tr>\n",
       "    <tr>\n",
       "      <th>288</th>\n",
       "      <td>2014/6/25</td>\n",
       "      <td>0.29</td>\n",
       "      <td>-1.16</td>\n",
       "      <td>-0.71</td>\n",
       "      <td>0.49</td>\n",
       "      <td>-0.06</td>\n",
       "      <td>0.68</td>\n",
       "      <td>-0.63</td>\n",
       "      <td>-0.71</td>\n",
       "      <td>-0.41</td>\n",
       "      <td>0.38</td>\n",
       "      <td>-0.04</td>\n",
       "      <td>-0.17</td>\n",
       "      <td>31.20</td>\n",
       "      <td>3</td>\n",
       "      <td>3</td>\n",
       "      <td>0</td>\n",
       "    </tr>\n",
       "    <tr>\n",
       "      <th>289</th>\n",
       "      <td>2014/6/26</td>\n",
       "      <td>-0.13</td>\n",
       "      <td>-0.19</td>\n",
       "      <td>-0.64</td>\n",
       "      <td>-0.12</td>\n",
       "      <td>1.45</td>\n",
       "      <td>-0.02</td>\n",
       "      <td>0.67</td>\n",
       "      <td>0.27</td>\n",
       "      <td>0.65</td>\n",
       "      <td>-0.41</td>\n",
       "      <td>0.85</td>\n",
       "      <td>0.84</td>\n",
       "      <td>-4.05</td>\n",
       "      <td>0</td>\n",
       "      <td>0</td>\n",
       "      <td>1</td>\n",
       "    </tr>\n",
       "    <tr>\n",
       "      <th>290</th>\n",
       "      <td>2014/6/27</td>\n",
       "      <td>0.03</td>\n",
       "      <td>0.56</td>\n",
       "      <td>0.10</td>\n",
       "      <td>0.19</td>\n",
       "      <td>0.10</td>\n",
       "      <td>0.43</td>\n",
       "      <td>-0.33</td>\n",
       "      <td>-1.39</td>\n",
       "      <td>-0.11</td>\n",
       "      <td>0.16</td>\n",
       "      <td>-0.15</td>\n",
       "      <td>-0.25</td>\n",
       "      <td>25.61</td>\n",
       "      <td>3</td>\n",
       "      <td>3</td>\n",
       "      <td>0</td>\n",
       "    </tr>\n",
       "    <tr>\n",
       "      <th>291</th>\n",
       "      <td>2014/6/30</td>\n",
       "      <td>-0.15</td>\n",
       "      <td>-0.08</td>\n",
       "      <td>0.18</td>\n",
       "      <td>-0.04</td>\n",
       "      <td>-0.13</td>\n",
       "      <td>0.23</td>\n",
       "      <td>0.69</td>\n",
       "      <td>0.44</td>\n",
       "      <td>0.58</td>\n",
       "      <td>1.06</td>\n",
       "      <td>0.93</td>\n",
       "      <td>0.91</td>\n",
       "      <td>0.00</td>\n",
       "      <td>0</td>\n",
       "      <td>0</td>\n",
       "      <td>0</td>\n",
       "    </tr>\n",
       "  </tbody>\n",
       "</table>\n",
       "<p>292 rows × 17 columns</p>\n",
       "</div>"
      ],
      "text/plain": [
       "          Date   Dow  France  Germany  S&P 500  Hong Kong  NASDAQ  Korea  \\\n",
       "0     2013/1/8 -0.41    0.25    -0.48    -0.32      -0.94   -0.23   0.04   \n",
       "1     2013/1/9  0.46    0.66     0.32     0.27       0.46    0.45  -0.31   \n",
       "2    2013/1/10  0.60   -0.01    -0.16     0.76       0.59    0.51   0.75   \n",
       "3    2013/1/11  0.13    0.32     0.09     0.00      -0.39    0.12  -0.50   \n",
       "4    2013/1/15  0.20   -0.18    -0.69     0.11      -0.14   -0.22  -1.16   \n",
       "..         ...   ...     ...      ...      ...        ...     ...    ...   \n",
       "287  2014/6/24 -0.70    0.53     0.17    -0.64       0.33   -0.42   0.98   \n",
       "288  2014/6/25  0.29   -1.16    -0.71     0.49      -0.06    0.68  -0.63   \n",
       "289  2014/6/26 -0.13   -0.19    -0.64    -0.12       1.45   -0.02   0.67   \n",
       "290  2014/6/27  0.03    0.56     0.10     0.19       0.10    0.43  -0.33   \n",
       "291  2014/6/30 -0.15   -0.08     0.18    -0.04      -0.13    0.23   0.69   \n",
       "\n",
       "     Japan  Shanghai  Philadelphia  Taiwan  Future  OpenChange  selfDef  \\\n",
       "0    -0.86     -0.41         -1.12   -0.43   -0.47        4.74        0   \n",
       "1     0.67     -0.03          1.05    0.22    0.40       42.34        3   \n",
       "2     0.70      0.37          1.33    0.94    1.27       31.93        3   \n",
       "3     1.40     -1.78          0.53    0.10   -0.43      -23.47        1   \n",
       "4     0.72      0.60         -0.50   -0.75   -1.05        1.07        0   \n",
       "..     ...       ...           ...     ...     ...         ...      ...   \n",
       "287   0.05      0.47         -0.73    0.19    0.05        3.93        0   \n",
       "288  -0.71     -0.41          0.38   -0.04   -0.17       31.20        3   \n",
       "289   0.27      0.65         -0.41    0.85    0.84       -4.05        0   \n",
       "290  -1.39     -0.11          0.16   -0.15   -0.25       25.61        3   \n",
       "291   0.44      0.58          1.06    0.93    0.91        0.00        0   \n",
       "\n",
       "     kMeans  selfDef2  \n",
       "0         0         0  \n",
       "1         3         0  \n",
       "2         3         0  \n",
       "3         1         1  \n",
       "4         0         0  \n",
       "..      ...       ...  \n",
       "287       0         0  \n",
       "288       3         0  \n",
       "289       0         1  \n",
       "290       3         0  \n",
       "291       0         0  \n",
       "\n",
       "[292 rows x 17 columns]"
      ]
     },
     "execution_count": 31,
     "metadata": {},
     "output_type": "execute_result"
    }
   ],
   "source": [
    "data2 = pd.read_csv(r'CleanTest.csv')\n",
    "data2['selfDef2'] = data2['OpenChange'].apply(lambda x : 1 if x < 0 else 0)\n",
    "data2"
   ]
  },
  {
   "cell_type": "code",
   "execution_count": 32,
   "metadata": {},
   "outputs": [],
   "source": [
    "x2 = data2.iloc[:,1:-4]\n",
    "y2 = data2.loc[:,'selfDef2']"
   ]
  },
  {
   "cell_type": "code",
   "execution_count": 77,
   "metadata": {},
   "outputs": [
    {
     "data": {
      "text/plain": [
       "0.7568493150684932"
      ]
     },
     "execution_count": 77,
     "metadata": {},
     "output_type": "execute_result"
    }
   ],
   "source": [
    "y2_pred =model.predict(x2)\n",
    "model.score(x2,y2)"
   ]
  },
  {
   "cell_type": "code",
   "execution_count": 78,
   "metadata": {},
   "outputs": [
    {
     "name": "stdout",
     "output_type": "stream",
     "text": [
      "AUC: 0.6806502775574941\n"
     ]
    }
   ],
   "source": [
    "print('AUC:', metrics.roc_auc_score(y2,y2_pred))"
   ]
  },
  {
   "cell_type": "code",
   "execution_count": 79,
   "metadata": {},
   "outputs": [
    {
     "data": {
      "text/plain": [
       "array([[177,  18],\n",
       "       [ 53,  44]], dtype=int64)"
      ]
     },
     "execution_count": 79,
     "metadata": {},
     "output_type": "execute_result"
    }
   ],
   "source": [
    "cm2 = confusion_matrix(y2,y2_pred)\n",
    "cm2"
   ]
  },
  {
   "cell_type": "code",
   "execution_count": 80,
   "metadata": {},
   "outputs": [
    {
     "name": "stdout",
     "output_type": "stream",
     "text": [
      "              precision    recall  f1-score   support\n",
      "\n",
      "           0       0.77      0.91      0.83       195\n",
      "           1       0.71      0.45      0.55        97\n",
      "\n",
      "    accuracy                           0.76       292\n",
      "   macro avg       0.74      0.68      0.69       292\n",
      "weighted avg       0.75      0.76      0.74       292\n",
      "\n"
     ]
    }
   ],
   "source": [
    "print(classification_report(y2, y2_pred))"
   ]
  },
  {
   "cell_type": "code",
   "execution_count": 65,
   "metadata": {},
   "outputs": [
    {
     "data": {
      "text/plain": [
       "<module 'matplotlib.pyplot' from 'C:\\\\Users\\\\USER\\\\anaconda3\\\\lib\\\\site-packages\\\\matplotlib\\\\pyplot.py'>"
      ]
     },
     "execution_count": 65,
     "metadata": {},
     "output_type": "execute_result"
    },
    {
     "data": {
      "image/png": "[encoded data removed]",
      "text/plain": [
       "<Figure size 288x216 with 1 Axes>"
      ]
     },
     "metadata": {
      "needs_background": "light"
     },
     "output_type": "display_data"
    }
   ],
   "source": [
    "# 畫出學習曲線\n",
    "from plot_learning_curve import plot_learning_curve\n",
    "from sklearn.model_selection import ShuffleSplit\n",
    "cv = ShuffleSplit(n_splits=10,test_size=0.2,random_state=0)\n",
    "plot_learning_curve(model, \"Random Forest\",x2, y2, ylim=(0.4, 1.2), cv=cv)"
   ]
  },
  {
   "cell_type": "code",
   "execution_count": null,
   "metadata": {},
   "outputs": [],
   "source": []
  },
  {
   "cell_type": "code",
   "execution_count": null,
   "metadata": {},
   "outputs": [],
   "source": []
  }
 ],
 "metadata": {
  "kernelspec": {
   "display_name": "Python 3",
   "language": "python",
   "name": "python3"
  },
  "language_info": {
   "codemirror_mode": {
    "name": "ipython",
    "version": 3
   },
   "file_extension": ".py",
   "mimetype": "text/x-python",
   "name": "python",
   "nbconvert_exporter": "python",
   "pygments_lexer": "ipython3",
   "version": "3.8.3"
  }
 },
 "nbformat": 4,
 "nbformat_minor": 4
}
